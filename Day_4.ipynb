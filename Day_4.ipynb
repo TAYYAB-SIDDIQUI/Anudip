{
  "nbformat": 4,
  "nbformat_minor": 0,
  "metadata": {
    "colab": {
      "provenance": []
    },
    "kernelspec": {
      "name": "python3",
      "display_name": "Python 3"
    },
    "language_info": {
      "name": "python"
    }
  },
  "cells": [
    {
      "cell_type": "code",
      "execution_count": 2,
      "metadata": {
        "colab": {
          "base_uri": "https://localhost:8080/"
        },
        "id": "Fkae2BCS2xLA",
        "outputId": "d10498a5-00f9-4c65-aa9c-dbb94774b10b"
      },
      "outputs": [
        {
          "output_type": "stream",
          "name": "stdout",
          "text": [
            "Enter num1 : 8\n",
            "Enter num2 : 8\n",
            "Enter operator like ( + - * / ) : +\n",
            "16.0\n"
          ]
        }
      ],
      "source": [
        "num1=float(input(\"Enter num1 : \"))\n",
        "num2=float(input(\"Enter num2 : \"))\n",
        "op=input(\"Enter operator like ( + - * / ) : \")\n",
        "if op==\"+\":\n",
        "  print(num1+num2)\n",
        "elif op==\"-\":\n",
        "  print(num1-num2)\n",
        "elif op==\"*\":\n",
        "  print(num1*num2)\n",
        "elif op==\"/\":\n",
        "  print(num1/num2)\n",
        "else:\n",
        "  print(\"Enter Valid operator\")"
      ]
    },
    {
      "cell_type": "markdown",
      "source": [
        "# Max number"
      ],
      "metadata": {
        "id": "BYftOVll9QDa"
      }
    },
    {
      "cell_type": "code",
      "source": [
        "list_of_no=[1,62,100]\n",
        "print(max(list_of_no))"
      ],
      "metadata": {
        "colab": {
          "base_uri": "https://localhost:8080/"
        },
        "id": "YGukMYzD3i2g",
        "outputId": "21b18c43-904a-4c0a-f8dc-7629c476595a"
      },
      "execution_count": 9,
      "outputs": [
        {
          "output_type": "stream",
          "name": "stdout",
          "text": [
            "100\n"
          ]
        }
      ]
    },
    {
      "cell_type": "markdown",
      "source": [
        "# Toy Prize Discount Problem"
      ],
      "metadata": {
        "id": "Tp7pYHUR9Wd3"
      }
    },
    {
      "cell_type": "code",
      "source": [
        "toy_type=int(input(\"Enter toy type\\n 1 for battery based,\\n 2 for key based,\\n 3 for electric based :\"))\n",
        "prize=float(input(\"Enter the prize :\"))\n",
        "\n",
        "if toy_type==1 and prize>1000:\n",
        "  print(\"discount 10% :\",(prize*10)/100)\n",
        "elif toy_type==2 and prize>200:\n",
        "  print(\"discount 5% :\",((prize*5)/100))\n",
        "elif toy_type==3 and prize>500:\n",
        "  print(\"discount 10% :\",((prize*10)/100))\n",
        "else:\n",
        "  print(\"No Discount\")"
      ],
      "metadata": {
        "colab": {
          "base_uri": "https://localhost:8080/"
        },
        "id": "J71_vSn85lUf",
        "outputId": "0cf91801-1f10-4954-c846-92408d96a90b"
      },
      "execution_count": 13,
      "outputs": [
        {
          "output_type": "stream",
          "name": "stdout",
          "text": [
            "Enter toy type\n",
            " 1 for battery based,\n",
            " 2 for key based,\n",
            " 3 for electric based :1\n",
            "Enter the prize :2000\n",
            "discount 10% : 200.0\n"
          ]
        }
      ]
    },
    {
      "cell_type": "code",
      "source": [],
      "metadata": {
        "id": "mRo2N24F7vyW"
      },
      "execution_count": null,
      "outputs": []
    }
  ]
}