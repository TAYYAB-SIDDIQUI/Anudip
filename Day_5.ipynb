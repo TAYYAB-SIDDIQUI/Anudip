{
  "nbformat": 4,
  "nbformat_minor": 0,
  "metadata": {
    "colab": {
      "provenance": []
    },
    "kernelspec": {
      "name": "python3",
      "display_name": "Python 3"
    },
    "language_info": {
      "name": "python"
    }
  },
  "cells": [
    {
      "cell_type": "code",
      "source": [
        "def div(p1,p2):\n",
        "  return p1/p2\n",
        "print(\"division \",div(10,5))\n"
      ],
      "metadata": {
        "colab": {
          "base_uri": "https://localhost:8080/"
        },
        "id": "5NJej4z22_Rz",
        "outputId": "490dccb9-a0a0-4a7a-8054-6795396a15ac"
      },
      "execution_count": 3,
      "outputs": [
        {
          "output_type": "stream",
          "name": "stdout",
          "text": [
            "division  2.0\n"
          ]
        }
      ]
    },
    {
      "cell_type": "code",
      "source": [
        "def square(val):\n",
        "  return val**2\n",
        "print(\"Square \",square(4))"
      ],
      "metadata": {
        "colab": {
          "base_uri": "https://localhost:8080/"
        },
        "id": "ubauHF4oAjT3",
        "outputId": "3c7fa09b-54c5-4bbc-9280-52f4096dff51"
      },
      "execution_count": 4,
      "outputs": [
        {
          "output_type": "stream",
          "name": "stdout",
          "text": [
            "Square  16\n"
          ]
        }
      ]
    },
    {
      "cell_type": "code",
      "source": [],
      "metadata": {
        "id": "ZrJkS3t2A262"
      },
      "execution_count": null,
      "outputs": []
    }
  ]
}